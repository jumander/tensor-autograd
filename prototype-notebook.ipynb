{
 "cells": [
  {
   "cell_type": "markdown",
   "metadata": {},
   "source": [
    "## Notebook for experimenting with implementations"
   ]
  },
  {
   "cell_type": "code",
   "execution_count": 1,
   "metadata": {},
   "outputs": [],
   "source": [
    "import math\n",
    "import numpy as np\n",
    "import matplotlib as plt\n",
    "%matplotlib inline"
   ]
  },
  {
   "cell_type": "code",
   "execution_count": 46,
   "metadata": {},
   "outputs": [],
   "source": [
    "class Tensor:\n",
    "  def __init__(self, data):\n",
    "    if not isinstance(data, np.ndarray):\n",
    "      data = np.array(data)\n",
    "    self.data = data\n",
    "    self.grad = np.zeros_like(data)\n",
    "\n",
    "  def __repr__(self):\n",
    "    numpy_repr = self.data.__repr__().replace('array', 'Tensor', 1)\n",
    "    return f\"{numpy_repr} shape={self.data.shape}\""
   ]
  },
  {
   "cell_type": "code",
   "execution_count": 47,
   "metadata": {},
   "outputs": [
    {
     "data": {
      "text/plain": [
       "Tensor([[ 0.9431046 , -1.3537264 ,  0.94258165, ..., -2.2726555 ,\n",
       "        -0.70441717, -0.5484255 ],\n",
       "       [ 0.26456523,  0.6037704 ,  1.6178777 , ..., -0.42904   ,\n",
       "        -0.2837473 ,  0.8389864 ],\n",
       "       [ 1.4886018 , -0.8518783 ,  0.15339147, ..., -0.9806632 ,\n",
       "        -2.5463269 , -0.51725125],\n",
       "       ...,\n",
       "       [ 0.481055  , -2.3482256 , -1.3536443 , ...,  0.2854806 ,\n",
       "         1.341151  , -1.1388196 ],\n",
       "       [-0.9446624 ,  1.9405962 ,  0.584065  , ..., -0.4133341 ,\n",
       "         0.63019794, -0.32872248],\n",
       "       [-0.2668821 ,  0.9008386 , -1.6790947 , ..., -0.8150785 ,\n",
       "        -0.74289787, -0.26324552]], dtype=float32) shape=(100, 100)"
      ]
     },
     "execution_count": 47,
     "metadata": {},
     "output_type": "execute_result"
    }
   ],
   "source": [
    "N = np.random.randn(100, 100).astype(np.float32)\n",
    "\n",
    "A = Tensor(N)"
   ]
  },
  {
   "cell_type": "code",
   "execution_count": null,
   "metadata": {},
   "outputs": [],
   "source": []
  }
 ],
 "metadata": {
  "kernelspec": {
   "display_name": "Python 3.8.5 ('base')",
   "language": "python",
   "name": "python3"
  },
  "language_info": {
   "codemirror_mode": {
    "name": "ipython",
    "version": 3
   },
   "file_extension": ".py",
   "mimetype": "text/x-python",
   "name": "python",
   "nbconvert_exporter": "python",
   "pygments_lexer": "ipython3",
   "version": "3.8.5"
  },
  "orig_nbformat": 4,
  "vscode": {
   "interpreter": {
    "hash": "f495a9792bd7a16995ecb4a5b8fdfd8c0d2739dc46100ca81af251c888b4dca0"
   }
  }
 },
 "nbformat": 4,
 "nbformat_minor": 2
}
